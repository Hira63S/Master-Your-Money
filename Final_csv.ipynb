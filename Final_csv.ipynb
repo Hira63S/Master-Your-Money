{
 "cells": [
  {
   "cell_type": "code",
   "execution_count": 5,
   "metadata": {},
   "outputs": [],
   "source": [
    "url = 'https://raw.githubusercontent.com/master-your-money-bw/data-science/master/datasets/almost_final.csv'"
   ]
  },
  {
   "cell_type": "code",
   "execution_count": 23,
   "metadata": {},
   "outputs": [],
   "source": [
    "import pandas as pd\n",
    "import numpy as np\n",
    "from sklearn.model_selection import train_test_split\n",
    "from sklearn.linear_model import LinearRegression\n",
    "from sklearn.metrics import mean_absolute_error, mean_squared_error, r2_score\n",
    "from sklearn.model_selection import train_test_split\n",
    "import statsmodels.api as sm"
   ]
  },
  {
   "cell_type": "code",
   "execution_count": 7,
   "metadata": {},
   "outputs": [
    {
     "data": {
      "text/html": [
       "<div>\n",
       "<style scoped>\n",
       "    .dataframe tbody tr th:only-of-type {\n",
       "        vertical-align: middle;\n",
       "    }\n",
       "\n",
       "    .dataframe tbody tr th {\n",
       "        vertical-align: top;\n",
       "    }\n",
       "\n",
       "    .dataframe thead th {\n",
       "        text-align: right;\n",
       "    }\n",
       "</style>\n",
       "<table border=\"1\" class=\"dataframe\">\n",
       "  <thead>\n",
       "    <tr style=\"text-align: right;\">\n",
       "      <th></th>\n",
       "      <th>Unnamed: 0</th>\n",
       "      <th>NEWID</th>\n",
       "      <th>Total expenses</th>\n",
       "      <th>Entertainment</th>\n",
       "      <th>Total Transportation cost</th>\n",
       "      <th>Total Housing</th>\n",
       "      <th>Total Food</th>\n",
       "      <th>Income before tax</th>\n",
       "      <th>Luxury expenses</th>\n",
       "      <th>FINATXEM</th>\n",
       "      <th>Income minus total expenses</th>\n",
       "      <th>possible savings</th>\n",
       "    </tr>\n",
       "  </thead>\n",
       "  <tbody>\n",
       "    <tr>\n",
       "      <th>0</th>\n",
       "      <td>0</td>\n",
       "      <td>3566504</td>\n",
       "      <td>11869.75</td>\n",
       "      <td>42.0</td>\n",
       "      <td>3771.0</td>\n",
       "      <td>3739.00</td>\n",
       "      <td>1690.0</td>\n",
       "      <td>130383</td>\n",
       "      <td>2627.75</td>\n",
       "      <td>90691.9</td>\n",
       "      <td>10803.225</td>\n",
       "      <td>3601.075000</td>\n",
       "    </tr>\n",
       "    <tr>\n",
       "      <th>1</th>\n",
       "      <td>1</td>\n",
       "      <td>3566514</td>\n",
       "      <td>7753.00</td>\n",
       "      <td>465.0</td>\n",
       "      <td>772.0</td>\n",
       "      <td>3689.00</td>\n",
       "      <td>1365.0</td>\n",
       "      <td>63421</td>\n",
       "      <td>1462.00</td>\n",
       "      <td>63421.0</td>\n",
       "      <td>8102.250</td>\n",
       "      <td>2700.750000</td>\n",
       "    </tr>\n",
       "    <tr>\n",
       "      <th>2</th>\n",
       "      <td>2</td>\n",
       "      <td>3566534</td>\n",
       "      <td>77432.75</td>\n",
       "      <td>4191.0</td>\n",
       "      <td>5536.0</td>\n",
       "      <td>24224.75</td>\n",
       "      <td>3931.0</td>\n",
       "      <td>1114425</td>\n",
       "      <td>39550.00</td>\n",
       "      <td>-191620.6</td>\n",
       "      <td>-125337.900</td>\n",
       "      <td>-41779.300000</td>\n",
       "    </tr>\n",
       "    <tr>\n",
       "      <th>3</th>\n",
       "      <td>3</td>\n",
       "      <td>3566544</td>\n",
       "      <td>16488.75</td>\n",
       "      <td>1151.0</td>\n",
       "      <td>3351.0</td>\n",
       "      <td>2593.00</td>\n",
       "      <td>3640.0</td>\n",
       "      <td>154800</td>\n",
       "      <td>5753.75</td>\n",
       "      <td>136908.0</td>\n",
       "      <td>17738.250</td>\n",
       "      <td>5912.750000</td>\n",
       "    </tr>\n",
       "    <tr>\n",
       "      <th>4</th>\n",
       "      <td>4</td>\n",
       "      <td>3566624</td>\n",
       "      <td>8518.30</td>\n",
       "      <td>0.0</td>\n",
       "      <td>2805.0</td>\n",
       "      <td>2733.50</td>\n",
       "      <td>1885.0</td>\n",
       "      <td>54040</td>\n",
       "      <td>1094.80</td>\n",
       "      <td>54347.4</td>\n",
       "      <td>5068.550</td>\n",
       "      <td>1689.516667</td>\n",
       "    </tr>\n",
       "  </tbody>\n",
       "</table>\n",
       "</div>"
      ],
      "text/plain": [
       "   Unnamed: 0    NEWID  Total expenses  Entertainment  \\\n",
       "0           0  3566504        11869.75           42.0   \n",
       "1           1  3566514         7753.00          465.0   \n",
       "2           2  3566534        77432.75         4191.0   \n",
       "3           3  3566544        16488.75         1151.0   \n",
       "4           4  3566624         8518.30            0.0   \n",
       "\n",
       "   Total Transportation cost  Total Housing  Total Food  Income before tax  \\\n",
       "0                     3771.0        3739.00      1690.0             130383   \n",
       "1                      772.0        3689.00      1365.0              63421   \n",
       "2                     5536.0       24224.75      3931.0            1114425   \n",
       "3                     3351.0        2593.00      3640.0             154800   \n",
       "4                     2805.0        2733.50      1885.0              54040   \n",
       "\n",
       "   Luxury expenses  FINATXEM  Income minus total expenses  possible savings  \n",
       "0          2627.75   90691.9                    10803.225       3601.075000  \n",
       "1          1462.00   63421.0                     8102.250       2700.750000  \n",
       "2         39550.00 -191620.6                  -125337.900     -41779.300000  \n",
       "3          5753.75  136908.0                    17738.250       5912.750000  \n",
       "4          1094.80   54347.4                     5068.550       1689.516667  "
      ]
     },
     "execution_count": 7,
     "metadata": {},
     "output_type": "execute_result"
    }
   ],
   "source": [
    "df = pd.read_csv(url)\n",
    "\n",
    "df.head()"
   ]
  },
  {
   "cell_type": "code",
   "execution_count": 8,
   "metadata": {},
   "outputs": [
    {
     "data": {
      "text/plain": [
       "0     9200.00\n",
       "1     5826.00\n",
       "2    33691.75\n",
       "3     9584.00\n",
       "4     7423.50\n",
       "Name: Necessities, dtype: float64"
      ]
     },
     "execution_count": 8,
     "metadata": {},
     "output_type": "execute_result"
    }
   ],
   "source": [
    "df['Necessities'] = (df['Total Housing'] + df['Total Food'] + df['Total Transportation cost'])\n",
    "\n",
    "df['Necessities'].head()"
   ]
  },
  {
   "cell_type": "code",
   "execution_count": 10,
   "metadata": {},
   "outputs": [
    {
     "data": {
      "text/plain": [
       "0    0.405769\n",
       "1    0.367449\n",
       "2   -0.703301\n",
       "3    0.280013\n",
       "4    0.546374\n",
       "Name: 50%, dtype: float64"
      ]
     },
     "execution_count": 10,
     "metadata": {},
     "output_type": "execute_result"
    }
   ],
   "source": [
    "df['50%'] = (df['Necessities']/3) / ((df['FINATXEM'])/12)\n",
    "\n",
    "df['50%'].head()"
   ]
  },
  {
   "cell_type": "code",
   "execution_count": 11,
   "metadata": {},
   "outputs": [
    {
     "data": {
      "text/plain": [
       "0    0.117750\n",
       "1    0.121537\n",
       "2   -0.913075\n",
       "3    0.201734\n",
       "4    0.080578\n",
       "Name: 30%, dtype: float64"
      ]
     },
     "execution_count": 11,
     "metadata": {},
     "output_type": "execute_result"
    }
   ],
   "source": [
    "df['30%'] = ((df['Luxury expenses'] + df['Entertainment']) / 3) / ((df['FINATXEM'])/12)\n",
    "\n",
    "df['30%'].head()"
   ]
  },
  {
   "cell_type": "code",
   "execution_count": 12,
   "metadata": {},
   "outputs": [
    {
     "data": {
      "text/plain": [
       "0    0.158827\n",
       "1    0.170338\n",
       "2    0.872125\n",
       "3    0.172751\n",
       "4    0.124349\n",
       "Name: 20%, dtype: float64"
      ]
     },
     "execution_count": 12,
     "metadata": {},
     "output_type": "execute_result"
    }
   ],
   "source": [
    "df['20%'] = ((df['possible savings'])/3) / (df['FINATXEM'] / 12)\n",
    "\n",
    "df['20%'].head()"
   ]
  },
  {
   "cell_type": "code",
   "execution_count": 14,
   "metadata": {},
   "outputs": [
    {
     "data": {
      "text/html": [
       "<div>\n",
       "<style scoped>\n",
       "    .dataframe tbody tr th:only-of-type {\n",
       "        vertical-align: middle;\n",
       "    }\n",
       "\n",
       "    .dataframe tbody tr th {\n",
       "        vertical-align: top;\n",
       "    }\n",
       "\n",
       "    .dataframe thead th {\n",
       "        text-align: right;\n",
       "    }\n",
       "</style>\n",
       "<table border=\"1\" class=\"dataframe\">\n",
       "  <thead>\n",
       "    <tr style=\"text-align: right;\">\n",
       "      <th></th>\n",
       "      <th>Unnamed: 0</th>\n",
       "      <th>NEWID</th>\n",
       "      <th>Total expenses</th>\n",
       "      <th>Entertainment</th>\n",
       "      <th>Total Transportation cost</th>\n",
       "      <th>Total Housing</th>\n",
       "      <th>Total Food</th>\n",
       "      <th>Income before tax</th>\n",
       "      <th>Luxury expenses</th>\n",
       "      <th>FINATXEM</th>\n",
       "      <th>Income minus total expenses</th>\n",
       "      <th>possible savings</th>\n",
       "      <th>Necessities</th>\n",
       "      <th>50%</th>\n",
       "      <th>30%</th>\n",
       "      <th>20%</th>\n",
       "    </tr>\n",
       "  </thead>\n",
       "  <tbody>\n",
       "    <tr>\n",
       "      <th>0</th>\n",
       "      <td>0</td>\n",
       "      <td>3566504</td>\n",
       "      <td>11869.75</td>\n",
       "      <td>42.0</td>\n",
       "      <td>3771.0</td>\n",
       "      <td>3739.00</td>\n",
       "      <td>1690.0</td>\n",
       "      <td>130383</td>\n",
       "      <td>2627.75</td>\n",
       "      <td>90691.9</td>\n",
       "      <td>10803.225</td>\n",
       "      <td>3601.075000</td>\n",
       "      <td>9200.00</td>\n",
       "      <td>0.405769</td>\n",
       "      <td>0.117750</td>\n",
       "      <td>0.158827</td>\n",
       "    </tr>\n",
       "    <tr>\n",
       "      <th>1</th>\n",
       "      <td>1</td>\n",
       "      <td>3566514</td>\n",
       "      <td>7753.00</td>\n",
       "      <td>465.0</td>\n",
       "      <td>772.0</td>\n",
       "      <td>3689.00</td>\n",
       "      <td>1365.0</td>\n",
       "      <td>63421</td>\n",
       "      <td>1462.00</td>\n",
       "      <td>63421.0</td>\n",
       "      <td>8102.250</td>\n",
       "      <td>2700.750000</td>\n",
       "      <td>5826.00</td>\n",
       "      <td>0.367449</td>\n",
       "      <td>0.121537</td>\n",
       "      <td>0.170338</td>\n",
       "    </tr>\n",
       "    <tr>\n",
       "      <th>2</th>\n",
       "      <td>2</td>\n",
       "      <td>3566534</td>\n",
       "      <td>77432.75</td>\n",
       "      <td>4191.0</td>\n",
       "      <td>5536.0</td>\n",
       "      <td>24224.75</td>\n",
       "      <td>3931.0</td>\n",
       "      <td>1114425</td>\n",
       "      <td>39550.00</td>\n",
       "      <td>-191620.6</td>\n",
       "      <td>-125337.900</td>\n",
       "      <td>-41779.300000</td>\n",
       "      <td>33691.75</td>\n",
       "      <td>-0.703301</td>\n",
       "      <td>-0.913075</td>\n",
       "      <td>0.872125</td>\n",
       "    </tr>\n",
       "    <tr>\n",
       "      <th>3</th>\n",
       "      <td>3</td>\n",
       "      <td>3566544</td>\n",
       "      <td>16488.75</td>\n",
       "      <td>1151.0</td>\n",
       "      <td>3351.0</td>\n",
       "      <td>2593.00</td>\n",
       "      <td>3640.0</td>\n",
       "      <td>154800</td>\n",
       "      <td>5753.75</td>\n",
       "      <td>136908.0</td>\n",
       "      <td>17738.250</td>\n",
       "      <td>5912.750000</td>\n",
       "      <td>9584.00</td>\n",
       "      <td>0.280013</td>\n",
       "      <td>0.201734</td>\n",
       "      <td>0.172751</td>\n",
       "    </tr>\n",
       "    <tr>\n",
       "      <th>4</th>\n",
       "      <td>4</td>\n",
       "      <td>3566624</td>\n",
       "      <td>8518.30</td>\n",
       "      <td>0.0</td>\n",
       "      <td>2805.0</td>\n",
       "      <td>2733.50</td>\n",
       "      <td>1885.0</td>\n",
       "      <td>54040</td>\n",
       "      <td>1094.80</td>\n",
       "      <td>54347.4</td>\n",
       "      <td>5068.550</td>\n",
       "      <td>1689.516667</td>\n",
       "      <td>7423.50</td>\n",
       "      <td>0.546374</td>\n",
       "      <td>0.080578</td>\n",
       "      <td>0.124349</td>\n",
       "    </tr>\n",
       "  </tbody>\n",
       "</table>\n",
       "</div>"
      ],
      "text/plain": [
       "   Unnamed: 0    NEWID  Total expenses  Entertainment  \\\n",
       "0           0  3566504        11869.75           42.0   \n",
       "1           1  3566514         7753.00          465.0   \n",
       "2           2  3566534        77432.75         4191.0   \n",
       "3           3  3566544        16488.75         1151.0   \n",
       "4           4  3566624         8518.30            0.0   \n",
       "\n",
       "   Total Transportation cost  Total Housing  Total Food  Income before tax  \\\n",
       "0                     3771.0        3739.00      1690.0             130383   \n",
       "1                      772.0        3689.00      1365.0              63421   \n",
       "2                     5536.0       24224.75      3931.0            1114425   \n",
       "3                     3351.0        2593.00      3640.0             154800   \n",
       "4                     2805.0        2733.50      1885.0              54040   \n",
       "\n",
       "   Luxury expenses  FINATXEM  Income minus total expenses  possible savings  \\\n",
       "0          2627.75   90691.9                    10803.225       3601.075000   \n",
       "1          1462.00   63421.0                     8102.250       2700.750000   \n",
       "2         39550.00 -191620.6                  -125337.900     -41779.300000   \n",
       "3          5753.75  136908.0                    17738.250       5912.750000   \n",
       "4          1094.80   54347.4                     5068.550       1689.516667   \n",
       "\n",
       "   Necessities       50%       30%       20%  \n",
       "0      9200.00  0.405769  0.117750  0.158827  \n",
       "1      5826.00  0.367449  0.121537  0.170338  \n",
       "2     33691.75 -0.703301 -0.913075  0.872125  \n",
       "3      9584.00  0.280013  0.201734  0.172751  \n",
       "4      7423.50  0.546374  0.080578  0.124349  "
      ]
     },
     "execution_count": 14,
     "metadata": {},
     "output_type": "execute_result"
    }
   ],
   "source": [
    "df.head()"
   ]
  },
  {
   "cell_type": "code",
   "execution_count": 18,
   "metadata": {},
   "outputs": [
    {
     "data": {
      "text/plain": [
       "count     4430.000000\n",
       "mean         4.231925\n",
       "std        234.651337\n",
       "min         -5.036345\n",
       "25%          0.220821\n",
       "50%          0.386286\n",
       "75%          0.630802\n",
       "max      15618.000000\n",
       "Name: 50%, dtype: float64"
      ]
     },
     "execution_count": 18,
     "metadata": {},
     "output_type": "execute_result"
    }
   ],
   "source": [
    "df['50%'].describe()"
   ]
  },
  {
   "cell_type": "code",
   "execution_count": 17,
   "metadata": {},
   "outputs": [],
   "source": [
    "df = df.loc[(df!=0).all(1)]"
   ]
  },
  {
   "cell_type": "code",
   "execution_count": 20,
   "metadata": {},
   "outputs": [
    {
     "data": {
      "text/plain": [
       "count    4430.000000\n",
       "mean       -1.901259\n",
       "std       126.294488\n",
       "min     -8405.666667\n",
       "25%         0.028877\n",
       "50%         0.138358\n",
       "75%         0.219111\n",
       "max         4.394068\n",
       "Name: 20%, dtype: float64"
      ]
     },
     "execution_count": 20,
     "metadata": {},
     "output_type": "execute_result"
    }
   ],
   "source": [
    "df['20%'].describe()"
   ]
  },
  {
   "cell_type": "code",
   "execution_count": 19,
   "metadata": {},
   "outputs": [
    {
     "data": {
      "text/plain": [
       "count    4430.000000\n",
       "mean        2.471852\n",
       "std       144.234207\n",
       "min       -10.285480\n",
       "25%         0.094465\n",
       "50%         0.165147\n",
       "75%         0.283329\n",
       "max      9600.000000\n",
       "Name: 30%, dtype: float64"
      ]
     },
     "execution_count": 19,
     "metadata": {},
     "output_type": "execute_result"
    }
   ],
   "source": [
    "df['30%'].describe()"
   ]
  },
  {
   "cell_type": "markdown",
   "metadata": {},
   "source": [
    "##Model##\n"
   ]
  },
  {
   "cell_type": "code",
   "execution_count": 22,
   "metadata": {},
   "outputs": [],
   "source": [
    "features = ['FINATXEM']\n",
    "\n",
    "target = '50%'\n",
    "\n",
    "X = df[features]\n",
    "y = df[target]\n",
    "\n",
    "\n",
    "X_train, X_test, y_train, y_test = train_test_split(X, y, test_size = 0.30, random_state = 42)"
   ]
  },
  {
   "cell_type": "code",
   "execution_count": 26,
   "metadata": {},
   "outputs": [
    {
     "name": "stdout",
     "output_type": "stream",
     "text": [
      "R^2 -0.0007594206012886406\n"
     ]
    }
   ],
   "source": [
    "model = LinearRegression()\n",
    "model.fit(X_train, y_train)\n",
    "y_pred = np.exp(model.predict(X_test)) # Apply exponential function (inverse of natural log) to the predictions\n",
    "print('R^2', model.score(X_test, y_pred))"
   ]
  },
  {
   "cell_type": "code",
   "execution_count": null,
   "metadata": {},
   "outputs": [],
   "source": []
  }
 ],
 "metadata": {
  "kernelspec": {
   "display_name": "conda_python3",
   "language": "python",
   "name": "conda_python3"
  },
  "language_info": {
   "codemirror_mode": {
    "name": "ipython",
    "version": 3
   },
   "file_extension": ".py",
   "mimetype": "text/x-python",
   "name": "python",
   "nbconvert_exporter": "python",
   "pygments_lexer": "ipython3",
   "version": "3.6.5"
  }
 },
 "nbformat": 4,
 "nbformat_minor": 2
}
